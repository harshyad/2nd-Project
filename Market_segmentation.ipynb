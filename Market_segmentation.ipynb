{
 "cells": [
  {
   "cell_type": "code",
   "execution_count": 1,
   "id": "cac6cdb8",
   "metadata": {},
   "outputs": [],
   "source": [
    "import numpy as np #used for creating and manipulating arrays.\n",
    "import pandas as pd #used for creating Series and DataFrames\n",
    "import matplotlib.pyplot as plt #used for data visualization\n",
    "import seaborn as sns #used for data visualization\n",
    "import warnings\n",
    "warnings.filterwarnings('ignore')"
   ]
  },
  {
   "cell_type": "code",
   "execution_count": 2,
   "id": "408b6096",
   "metadata": {},
   "outputs": [
    {
     "data": {
      "text/html": [
       "<div>\n",
       "<style scoped>\n",
       "    .dataframe tbody tr th:only-of-type {\n",
       "        vertical-align: middle;\n",
       "    }\n",
       "\n",
       "    .dataframe tbody tr th {\n",
       "        vertical-align: top;\n",
       "    }\n",
       "\n",
       "    .dataframe thead th {\n",
       "        text-align: right;\n",
       "    }\n",
       "</style>\n",
       "<table border=\"1\" class=\"dataframe\">\n",
       "  <thead>\n",
       "    <tr style=\"text-align: right;\">\n",
       "      <th></th>\n",
       "      <th>yummy</th>\n",
       "      <th>convenient</th>\n",
       "      <th>spicy</th>\n",
       "      <th>fattening</th>\n",
       "      <th>greasy</th>\n",
       "      <th>fast</th>\n",
       "      <th>cheap</th>\n",
       "      <th>tasty</th>\n",
       "      <th>expensive</th>\n",
       "      <th>healthy</th>\n",
       "      <th>disgusting</th>\n",
       "      <th>Like</th>\n",
       "      <th>Age</th>\n",
       "      <th>VisitFrequency</th>\n",
       "      <th>Gender</th>\n",
       "    </tr>\n",
       "  </thead>\n",
       "  <tbody>\n",
       "    <tr>\n",
       "      <th>0</th>\n",
       "      <td>No</td>\n",
       "      <td>Yes</td>\n",
       "      <td>No</td>\n",
       "      <td>Yes</td>\n",
       "      <td>No</td>\n",
       "      <td>Yes</td>\n",
       "      <td>Yes</td>\n",
       "      <td>No</td>\n",
       "      <td>Yes</td>\n",
       "      <td>No</td>\n",
       "      <td>No</td>\n",
       "      <td>-3</td>\n",
       "      <td>61</td>\n",
       "      <td>Every three months</td>\n",
       "      <td>Female</td>\n",
       "    </tr>\n",
       "    <tr>\n",
       "      <th>1</th>\n",
       "      <td>Yes</td>\n",
       "      <td>Yes</td>\n",
       "      <td>No</td>\n",
       "      <td>Yes</td>\n",
       "      <td>Yes</td>\n",
       "      <td>Yes</td>\n",
       "      <td>Yes</td>\n",
       "      <td>Yes</td>\n",
       "      <td>Yes</td>\n",
       "      <td>No</td>\n",
       "      <td>No</td>\n",
       "      <td>2</td>\n",
       "      <td>51</td>\n",
       "      <td>Every three months</td>\n",
       "      <td>Female</td>\n",
       "    </tr>\n",
       "    <tr>\n",
       "      <th>2</th>\n",
       "      <td>No</td>\n",
       "      <td>Yes</td>\n",
       "      <td>Yes</td>\n",
       "      <td>Yes</td>\n",
       "      <td>Yes</td>\n",
       "      <td>Yes</td>\n",
       "      <td>No</td>\n",
       "      <td>Yes</td>\n",
       "      <td>Yes</td>\n",
       "      <td>Yes</td>\n",
       "      <td>No</td>\n",
       "      <td>1</td>\n",
       "      <td>62</td>\n",
       "      <td>Every three months</td>\n",
       "      <td>Female</td>\n",
       "    </tr>\n",
       "    <tr>\n",
       "      <th>3</th>\n",
       "      <td>Yes</td>\n",
       "      <td>Yes</td>\n",
       "      <td>No</td>\n",
       "      <td>Yes</td>\n",
       "      <td>Yes</td>\n",
       "      <td>Yes</td>\n",
       "      <td>Yes</td>\n",
       "      <td>Yes</td>\n",
       "      <td>No</td>\n",
       "      <td>No</td>\n",
       "      <td>Yes</td>\n",
       "      <td>4</td>\n",
       "      <td>69</td>\n",
       "      <td>Once a week</td>\n",
       "      <td>Female</td>\n",
       "    </tr>\n",
       "    <tr>\n",
       "      <th>4</th>\n",
       "      <td>No</td>\n",
       "      <td>Yes</td>\n",
       "      <td>No</td>\n",
       "      <td>Yes</td>\n",
       "      <td>Yes</td>\n",
       "      <td>Yes</td>\n",
       "      <td>Yes</td>\n",
       "      <td>No</td>\n",
       "      <td>No</td>\n",
       "      <td>Yes</td>\n",
       "      <td>No</td>\n",
       "      <td>2</td>\n",
       "      <td>49</td>\n",
       "      <td>Once a month</td>\n",
       "      <td>Male</td>\n",
       "    </tr>\n",
       "  </tbody>\n",
       "</table>\n",
       "</div>"
      ],
      "text/plain": [
       "  yummy convenient spicy fattening greasy fast cheap tasty expensive healthy  \\\n",
       "0    No        Yes    No       Yes     No  Yes   Yes    No       Yes      No   \n",
       "1   Yes        Yes    No       Yes    Yes  Yes   Yes   Yes       Yes      No   \n",
       "2    No        Yes   Yes       Yes    Yes  Yes    No   Yes       Yes     Yes   \n",
       "3   Yes        Yes    No       Yes    Yes  Yes   Yes   Yes        No      No   \n",
       "4    No        Yes    No       Yes    Yes  Yes   Yes    No        No     Yes   \n",
       "\n",
       "  disgusting Like  Age      VisitFrequency  Gender  \n",
       "0         No   -3   61  Every three months  Female  \n",
       "1         No    2   51  Every three months  Female  \n",
       "2         No    1   62  Every three months  Female  \n",
       "3        Yes    4   69         Once a week  Female  \n",
       "4         No    2   49        Once a month    Male  "
      ]
     },
     "execution_count": 2,
     "metadata": {},
     "output_type": "execute_result"
    }
   ],
   "source": [
    "df = pd.read_csv('Mcdonald.csv')\n",
    "df.head()"
   ]
  },
  {
   "cell_type": "code",
   "execution_count": 3,
   "id": "afeab11c",
   "metadata": {},
   "outputs": [
    {
     "data": {
      "text/plain": [
       "(1453, 15)"
      ]
     },
     "execution_count": 3,
     "metadata": {},
     "output_type": "execute_result"
    }
   ],
   "source": [
    "df.shape"
   ]
  },
  {
   "cell_type": "code",
   "execution_count": 4,
   "id": "a91c1c78",
   "metadata": {},
   "outputs": [
    {
     "name": "stdout",
     "output_type": "stream",
     "text": [
      "<class 'pandas.core.frame.DataFrame'>\n",
      "RangeIndex: 1453 entries, 0 to 1452\n",
      "Data columns (total 15 columns):\n",
      " #   Column          Non-Null Count  Dtype \n",
      "---  ------          --------------  ----- \n",
      " 0   yummy           1453 non-null   object\n",
      " 1   convenient      1453 non-null   object\n",
      " 2   spicy           1453 non-null   object\n",
      " 3   fattening       1453 non-null   object\n",
      " 4   greasy          1453 non-null   object\n",
      " 5   fast            1453 non-null   object\n",
      " 6   cheap           1453 non-null   object\n",
      " 7   tasty           1453 non-null   object\n",
      " 8   expensive       1453 non-null   object\n",
      " 9   healthy         1453 non-null   object\n",
      " 10  disgusting      1453 non-null   object\n",
      " 11  Like            1453 non-null   object\n",
      " 12  Age             1453 non-null   int64 \n",
      " 13  VisitFrequency  1453 non-null   object\n",
      " 14  Gender          1453 non-null   object\n",
      "dtypes: int64(1), object(14)\n",
      "memory usage: 170.4+ KB\n"
     ]
    }
   ],
   "source": [
    "#let's check the info of the dataset\n",
    "df.info()"
   ]
  },
  {
   "cell_type": "markdown",
   "id": "5af40aef",
   "metadata": {},
   "source": [
    "# Numerical and Categorical Column Divison"
   ]
  },
  {
   "cell_type": "code",
   "execution_count": 5,
   "id": "f7c21569",
   "metadata": {},
   "outputs": [
    {
     "data": {
      "text/plain": [
       "Index(['Age'], dtype='object')"
      ]
     },
     "execution_count": 5,
     "metadata": {},
     "output_type": "execute_result"
    }
   ],
   "source": [
    "numeric_cols=df._get_numeric_data().columns\n",
    "numeric_cols"
   ]
  },
  {
   "cell_type": "code",
   "execution_count": 6,
   "id": "6e809590",
   "metadata": {},
   "outputs": [
    {
     "data": {
      "text/plain": [
       "Index(['yummy', 'convenient', 'spicy', 'fattening', 'greasy', 'fast', 'cheap',\n",
       "       'tasty', 'expensive', 'healthy', 'disgusting', 'Like', 'VisitFrequency',\n",
       "       'Gender'],\n",
       "      dtype='object')"
      ]
     },
     "execution_count": 6,
     "metadata": {},
     "output_type": "execute_result"
    }
   ],
   "source": [
    "categorical_cols=df.drop(columns=numeric_cols).columns\n",
    "categorical_cols"
   ]
  },
  {
   "cell_type": "markdown",
   "id": "355cb12c",
   "metadata": {},
   "source": [
    "# Descriptive Analysis\n"
   ]
  },
  {
   "cell_type": "code",
   "execution_count": 7,
   "id": "356d8a89",
   "metadata": {},
   "outputs": [
    {
     "data": {
      "text/plain": [
       "<AxesSubplot:ylabel='Gender'>"
      ]
     },
     "execution_count": 7,
     "metadata": {},
     "output_type": "execute_result"
    },
    {
     "data": {
      "image/png": "[encoded data removed]",
      "text/plain": [
       "<Figure size 720x360 with 1 Axes>"
      ]
     },
     "metadata": {},
     "output_type": "display_data"
    }
   ],
   "source": [
    "df['Gender'].value_counts().plot(kind='pie',figsize=(10,5),autopct='%1.1f%%')"
   ]
  },
  {
   "cell_type": "code",
   "execution_count": 8,
   "id": "7e66941b",
   "metadata": {},
   "outputs": [
    {
     "data": {
      "text/plain": [
       "Text(0.5, 0, 'Frequency')"
      ]
     },
     "execution_count": 8,
     "metadata": {},
     "output_type": "execute_result"
    },
    {
     "data": {
      "image/png": "[encoded data removed]",
      "text/plain": [
       "<Figure size 432x288 with 1 Axes>"
      ]
     },
     "metadata": {
      "needs_background": "light"
     },
     "output_type": "display_data"
    }
   ],
   "source": [
    "df['VisitFrequency'].value_counts().plot(kind='barh',color='green')\n",
    "plt.xlabel('Frequency')"
   ]
  },
  {
   "cell_type": "code",
   "execution_count": 9,
   "id": "2c036706",
   "metadata": {},
   "outputs": [],
   "source": [
    "#replacing text in Like column with numbered values for convience\n",
    "df['Like'] = df['Like'].replace({'I hate it!-5': '-5','I love it!+5':'5'})"
   ]
  },
  {
   "cell_type": "code",
   "execution_count": 10,
   "id": "df5db1a8",
   "metadata": {},
   "outputs": [
    {
     "data": {
      "text/plain": [
       "Text(0.5, 0, 'Frequency')"
      ]
     },
     "execution_count": 10,
     "metadata": {},
     "output_type": "execute_result"
    },
    {
     "data": {
      "image/png": "[encoded data removed]",
      "text/plain": [
       "<Figure size 432x288 with 1 Axes>"
      ]
     },
     "metadata": {
      "needs_background": "light"
     },
     "output_type": "display_data"
    }
   ],
   "source": [
    "df['Like'].value_counts().plot(kind='barh',color='red')\n",
    "plt.xlabel('Frequency')"
   ]
  },
  {
   "cell_type": "code",
   "execution_count": 11,
   "id": "c65abca2",
   "metadata": {},
   "outputs": [],
   "source": [
    "# performing Label Encoding for categorical columns from 1 to 11\n",
    "from sklearn.preprocessing import LabelEncoder"
   ]
  },
  {
   "cell_type": "code",
   "execution_count": 12,
   "id": "2c69ee6e",
   "metadata": {},
   "outputs": [
    {
     "data": {
      "text/html": [
       "<div>\n",
       "<style scoped>\n",
       "    .dataframe tbody tr th:only-of-type {\n",
       "        vertical-align: middle;\n",
       "    }\n",
       "\n",
       "    .dataframe tbody tr th {\n",
       "        vertical-align: top;\n",
       "    }\n",
       "\n",
       "    .dataframe thead th {\n",
       "        text-align: right;\n",
       "    }\n",
       "</style>\n",
       "<table border=\"1\" class=\"dataframe\">\n",
       "  <thead>\n",
       "    <tr style=\"text-align: right;\">\n",
       "      <th></th>\n",
       "      <th>yummy</th>\n",
       "      <th>convenient</th>\n",
       "      <th>spicy</th>\n",
       "      <th>fattening</th>\n",
       "      <th>greasy</th>\n",
       "      <th>fast</th>\n",
       "      <th>cheap</th>\n",
       "      <th>tasty</th>\n",
       "      <th>expensive</th>\n",
       "      <th>healthy</th>\n",
       "      <th>disgusting</th>\n",
       "    </tr>\n",
       "  </thead>\n",
       "  <tbody>\n",
       "    <tr>\n",
       "      <th>0</th>\n",
       "      <td>No</td>\n",
       "      <td>Yes</td>\n",
       "      <td>No</td>\n",
       "      <td>Yes</td>\n",
       "      <td>No</td>\n",
       "      <td>Yes</td>\n",
       "      <td>Yes</td>\n",
       "      <td>No</td>\n",
       "      <td>Yes</td>\n",
       "      <td>No</td>\n",
       "      <td>No</td>\n",
       "    </tr>\n",
       "    <tr>\n",
       "      <th>1</th>\n",
       "      <td>Yes</td>\n",
       "      <td>Yes</td>\n",
       "      <td>No</td>\n",
       "      <td>Yes</td>\n",
       "      <td>Yes</td>\n",
       "      <td>Yes</td>\n",
       "      <td>Yes</td>\n",
       "      <td>Yes</td>\n",
       "      <td>Yes</td>\n",
       "      <td>No</td>\n",
       "      <td>No</td>\n",
       "    </tr>\n",
       "    <tr>\n",
       "      <th>2</th>\n",
       "      <td>No</td>\n",
       "      <td>Yes</td>\n",
       "      <td>Yes</td>\n",
       "      <td>Yes</td>\n",
       "      <td>Yes</td>\n",
       "      <td>Yes</td>\n",
       "      <td>No</td>\n",
       "      <td>Yes</td>\n",
       "      <td>Yes</td>\n",
       "      <td>Yes</td>\n",
       "      <td>No</td>\n",
       "    </tr>\n",
       "    <tr>\n",
       "      <th>3</th>\n",
       "      <td>Yes</td>\n",
       "      <td>Yes</td>\n",
       "      <td>No</td>\n",
       "      <td>Yes</td>\n",
       "      <td>Yes</td>\n",
       "      <td>Yes</td>\n",
       "      <td>Yes</td>\n",
       "      <td>Yes</td>\n",
       "      <td>No</td>\n",
       "      <td>No</td>\n",
       "      <td>Yes</td>\n",
       "    </tr>\n",
       "    <tr>\n",
       "      <th>4</th>\n",
       "      <td>No</td>\n",
       "      <td>Yes</td>\n",
       "      <td>No</td>\n",
       "      <td>Yes</td>\n",
       "      <td>Yes</td>\n",
       "      <td>Yes</td>\n",
       "      <td>Yes</td>\n",
       "      <td>No</td>\n",
       "      <td>No</td>\n",
       "      <td>Yes</td>\n",
       "      <td>No</td>\n",
       "    </tr>\n",
       "    <tr>\n",
       "      <th>...</th>\n",
       "      <td>...</td>\n",
       "      <td>...</td>\n",
       "      <td>...</td>\n",
       "      <td>...</td>\n",
       "      <td>...</td>\n",
       "      <td>...</td>\n",
       "      <td>...</td>\n",
       "      <td>...</td>\n",
       "      <td>...</td>\n",
       "      <td>...</td>\n",
       "      <td>...</td>\n",
       "    </tr>\n",
       "    <tr>\n",
       "      <th>1448</th>\n",
       "      <td>No</td>\n",
       "      <td>Yes</td>\n",
       "      <td>No</td>\n",
       "      <td>Yes</td>\n",
       "      <td>Yes</td>\n",
       "      <td>No</td>\n",
       "      <td>No</td>\n",
       "      <td>No</td>\n",
       "      <td>Yes</td>\n",
       "      <td>No</td>\n",
       "      <td>Yes</td>\n",
       "    </tr>\n",
       "    <tr>\n",
       "      <th>1449</th>\n",
       "      <td>Yes</td>\n",
       "      <td>Yes</td>\n",
       "      <td>No</td>\n",
       "      <td>Yes</td>\n",
       "      <td>No</td>\n",
       "      <td>No</td>\n",
       "      <td>Yes</td>\n",
       "      <td>Yes</td>\n",
       "      <td>No</td>\n",
       "      <td>Yes</td>\n",
       "      <td>No</td>\n",
       "    </tr>\n",
       "    <tr>\n",
       "      <th>1450</th>\n",
       "      <td>Yes</td>\n",
       "      <td>Yes</td>\n",
       "      <td>No</td>\n",
       "      <td>Yes</td>\n",
       "      <td>No</td>\n",
       "      <td>Yes</td>\n",
       "      <td>No</td>\n",
       "      <td>Yes</td>\n",
       "      <td>Yes</td>\n",
       "      <td>No</td>\n",
       "      <td>No</td>\n",
       "    </tr>\n",
       "    <tr>\n",
       "      <th>1451</th>\n",
       "      <td>Yes</td>\n",
       "      <td>Yes</td>\n",
       "      <td>No</td>\n",
       "      <td>No</td>\n",
       "      <td>No</td>\n",
       "      <td>Yes</td>\n",
       "      <td>Yes</td>\n",
       "      <td>Yes</td>\n",
       "      <td>No</td>\n",
       "      <td>Yes</td>\n",
       "      <td>No</td>\n",
       "    </tr>\n",
       "    <tr>\n",
       "      <th>1452</th>\n",
       "      <td>No</td>\n",
       "      <td>Yes</td>\n",
       "      <td>No</td>\n",
       "      <td>Yes</td>\n",
       "      <td>Yes</td>\n",
       "      <td>No</td>\n",
       "      <td>No</td>\n",
       "      <td>No</td>\n",
       "      <td>Yes</td>\n",
       "      <td>No</td>\n",
       "      <td>Yes</td>\n",
       "    </tr>\n",
       "  </tbody>\n",
       "</table>\n",
       "<p>1453 rows × 11 columns</p>\n",
       "</div>"
      ],
      "text/plain": [
       "     yummy convenient spicy fattening greasy fast cheap tasty expensive  \\\n",
       "0       No        Yes    No       Yes     No  Yes   Yes    No       Yes   \n",
       "1      Yes        Yes    No       Yes    Yes  Yes   Yes   Yes       Yes   \n",
       "2       No        Yes   Yes       Yes    Yes  Yes    No   Yes       Yes   \n",
       "3      Yes        Yes    No       Yes    Yes  Yes   Yes   Yes        No   \n",
       "4       No        Yes    No       Yes    Yes  Yes   Yes    No        No   \n",
       "...    ...        ...   ...       ...    ...  ...   ...   ...       ...   \n",
       "1448    No        Yes    No       Yes    Yes   No    No    No       Yes   \n",
       "1449   Yes        Yes    No       Yes     No   No   Yes   Yes        No   \n",
       "1450   Yes        Yes    No       Yes     No  Yes    No   Yes       Yes   \n",
       "1451   Yes        Yes    No        No     No  Yes   Yes   Yes        No   \n",
       "1452    No        Yes    No       Yes    Yes   No    No    No       Yes   \n",
       "\n",
       "     healthy disgusting  \n",
       "0         No         No  \n",
       "1         No         No  \n",
       "2        Yes         No  \n",
       "3         No        Yes  \n",
       "4        Yes         No  \n",
       "...      ...        ...  \n",
       "1448      No        Yes  \n",
       "1449     Yes         No  \n",
       "1450      No         No  \n",
       "1451     Yes         No  \n",
       "1452      No        Yes  \n",
       "\n",
       "[1453 rows x 11 columns]"
      ]
     },
     "execution_count": 12,
     "metadata": {},
     "output_type": "execute_result"
    }
   ],
   "source": [
    "df_cat = df.iloc[:,0:11]\n",
    "df_cat"
   ]
  },
  {
   "cell_type": "code",
   "execution_count": 25,
   "id": "9f09eb15",
   "metadata": {},
   "outputs": [
    {
     "data": {
      "text/html": [
       "<div>\n",
       "<style scoped>\n",
       "    .dataframe tbody tr th:only-of-type {\n",
       "        vertical-align: middle;\n",
       "    }\n",
       "\n",
       "    .dataframe tbody tr th {\n",
       "        vertical-align: top;\n",
       "    }\n",
       "\n",
       "    .dataframe thead th {\n",
       "        text-align: right;\n",
       "    }\n",
       "</style>\n",
       "<table border=\"1\" class=\"dataframe\">\n",
       "  <thead>\n",
       "    <tr style=\"text-align: right;\">\n",
       "      <th></th>\n",
       "      <th>yummy</th>\n",
       "      <th>convenient</th>\n",
       "      <th>spicy</th>\n",
       "      <th>fattening</th>\n",
       "      <th>greasy</th>\n",
       "      <th>fast</th>\n",
       "      <th>cheap</th>\n",
       "      <th>tasty</th>\n",
       "      <th>expensive</th>\n",
       "      <th>healthy</th>\n",
       "      <th>disgusting</th>\n",
       "      <th>Like</th>\n",
       "      <th>Age</th>\n",
       "      <th>VisitFrequency</th>\n",
       "      <th>Gender</th>\n",
       "    </tr>\n",
       "  </thead>\n",
       "  <tbody>\n",
       "    <tr>\n",
       "      <th>0</th>\n",
       "      <td>0</td>\n",
       "      <td>1</td>\n",
       "      <td>0</td>\n",
       "      <td>1</td>\n",
       "      <td>0</td>\n",
       "      <td>1</td>\n",
       "      <td>1</td>\n",
       "      <td>0</td>\n",
       "      <td>1</td>\n",
       "      <td>0</td>\n",
       "      <td>0</td>\n",
       "      <td>-3</td>\n",
       "      <td>61</td>\n",
       "      <td>Every three months</td>\n",
       "      <td>Female</td>\n",
       "    </tr>\n",
       "    <tr>\n",
       "      <th>1</th>\n",
       "      <td>1</td>\n",
       "      <td>1</td>\n",
       "      <td>0</td>\n",
       "      <td>1</td>\n",
       "      <td>1</td>\n",
       "      <td>1</td>\n",
       "      <td>1</td>\n",
       "      <td>1</td>\n",
       "      <td>1</td>\n",
       "      <td>0</td>\n",
       "      <td>0</td>\n",
       "      <td>2</td>\n",
       "      <td>51</td>\n",
       "      <td>Every three months</td>\n",
       "      <td>Female</td>\n",
       "    </tr>\n",
       "    <tr>\n",
       "      <th>2</th>\n",
       "      <td>0</td>\n",
       "      <td>1</td>\n",
       "      <td>1</td>\n",
       "      <td>1</td>\n",
       "      <td>1</td>\n",
       "      <td>1</td>\n",
       "      <td>0</td>\n",
       "      <td>1</td>\n",
       "      <td>1</td>\n",
       "      <td>1</td>\n",
       "      <td>0</td>\n",
       "      <td>1</td>\n",
       "      <td>62</td>\n",
       "      <td>Every three months</td>\n",
       "      <td>Female</td>\n",
       "    </tr>\n",
       "    <tr>\n",
       "      <th>3</th>\n",
       "      <td>1</td>\n",
       "      <td>1</td>\n",
       "      <td>0</td>\n",
       "      <td>1</td>\n",
       "      <td>1</td>\n",
       "      <td>1</td>\n",
       "      <td>1</td>\n",
       "      <td>1</td>\n",
       "      <td>0</td>\n",
       "      <td>0</td>\n",
       "      <td>1</td>\n",
       "      <td>4</td>\n",
       "      <td>69</td>\n",
       "      <td>Once a week</td>\n",
       "      <td>Female</td>\n",
       "    </tr>\n",
       "    <tr>\n",
       "      <th>4</th>\n",
       "      <td>0</td>\n",
       "      <td>1</td>\n",
       "      <td>0</td>\n",
       "      <td>1</td>\n",
       "      <td>1</td>\n",
       "      <td>1</td>\n",
       "      <td>1</td>\n",
       "      <td>0</td>\n",
       "      <td>0</td>\n",
       "      <td>1</td>\n",
       "      <td>0</td>\n",
       "      <td>2</td>\n",
       "      <td>49</td>\n",
       "      <td>Once a month</td>\n",
       "      <td>Male</td>\n",
       "    </tr>\n",
       "    <tr>\n",
       "      <th>...</th>\n",
       "      <td>...</td>\n",
       "      <td>...</td>\n",
       "      <td>...</td>\n",
       "      <td>...</td>\n",
       "      <td>...</td>\n",
       "      <td>...</td>\n",
       "      <td>...</td>\n",
       "      <td>...</td>\n",
       "      <td>...</td>\n",
       "      <td>...</td>\n",
       "      <td>...</td>\n",
       "      <td>...</td>\n",
       "      <td>...</td>\n",
       "      <td>...</td>\n",
       "      <td>...</td>\n",
       "    </tr>\n",
       "    <tr>\n",
       "      <th>1448</th>\n",
       "      <td>0</td>\n",
       "      <td>1</td>\n",
       "      <td>0</td>\n",
       "      <td>1</td>\n",
       "      <td>1</td>\n",
       "      <td>0</td>\n",
       "      <td>0</td>\n",
       "      <td>0</td>\n",
       "      <td>1</td>\n",
       "      <td>0</td>\n",
       "      <td>1</td>\n",
       "      <td>-5</td>\n",
       "      <td>47</td>\n",
       "      <td>Once a year</td>\n",
       "      <td>Male</td>\n",
       "    </tr>\n",
       "    <tr>\n",
       "      <th>1449</th>\n",
       "      <td>1</td>\n",
       "      <td>1</td>\n",
       "      <td>0</td>\n",
       "      <td>1</td>\n",
       "      <td>0</td>\n",
       "      <td>0</td>\n",
       "      <td>1</td>\n",
       "      <td>1</td>\n",
       "      <td>0</td>\n",
       "      <td>1</td>\n",
       "      <td>0</td>\n",
       "      <td>2</td>\n",
       "      <td>36</td>\n",
       "      <td>Once a week</td>\n",
       "      <td>Female</td>\n",
       "    </tr>\n",
       "    <tr>\n",
       "      <th>1450</th>\n",
       "      <td>1</td>\n",
       "      <td>1</td>\n",
       "      <td>0</td>\n",
       "      <td>1</td>\n",
       "      <td>0</td>\n",
       "      <td>1</td>\n",
       "      <td>0</td>\n",
       "      <td>1</td>\n",
       "      <td>1</td>\n",
       "      <td>0</td>\n",
       "      <td>0</td>\n",
       "      <td>3</td>\n",
       "      <td>52</td>\n",
       "      <td>Once a month</td>\n",
       "      <td>Female</td>\n",
       "    </tr>\n",
       "    <tr>\n",
       "      <th>1451</th>\n",
       "      <td>1</td>\n",
       "      <td>1</td>\n",
       "      <td>0</td>\n",
       "      <td>0</td>\n",
       "      <td>0</td>\n",
       "      <td>1</td>\n",
       "      <td>1</td>\n",
       "      <td>1</td>\n",
       "      <td>0</td>\n",
       "      <td>1</td>\n",
       "      <td>0</td>\n",
       "      <td>4</td>\n",
       "      <td>41</td>\n",
       "      <td>Every three months</td>\n",
       "      <td>Male</td>\n",
       "    </tr>\n",
       "    <tr>\n",
       "      <th>1452</th>\n",
       "      <td>0</td>\n",
       "      <td>1</td>\n",
       "      <td>0</td>\n",
       "      <td>1</td>\n",
       "      <td>1</td>\n",
       "      <td>0</td>\n",
       "      <td>0</td>\n",
       "      <td>0</td>\n",
       "      <td>1</td>\n",
       "      <td>0</td>\n",
       "      <td>1</td>\n",
       "      <td>-3</td>\n",
       "      <td>30</td>\n",
       "      <td>Every three months</td>\n",
       "      <td>Male</td>\n",
       "    </tr>\n",
       "  </tbody>\n",
       "</table>\n",
       "<p>1453 rows × 15 columns</p>\n",
       "</div>"
      ],
      "text/plain": [
       "      yummy  convenient  spicy  fattening  greasy  fast  cheap  tasty  \\\n",
       "0         0           1      0          1       0     1      1      0   \n",
       "1         1           1      0          1       1     1      1      1   \n",
       "2         0           1      1          1       1     1      0      1   \n",
       "3         1           1      0          1       1     1      1      1   \n",
       "4         0           1      0          1       1     1      1      0   \n",
       "...     ...         ...    ...        ...     ...   ...    ...    ...   \n",
       "1448      0           1      0          1       1     0      0      0   \n",
       "1449      1           1      0          1       0     0      1      1   \n",
       "1450      1           1      0          1       0     1      0      1   \n",
       "1451      1           1      0          0       0     1      1      1   \n",
       "1452      0           1      0          1       1     0      0      0   \n",
       "\n",
       "      expensive  healthy  disgusting Like  Age      VisitFrequency  Gender  \n",
       "0             1        0           0   -3   61  Every three months  Female  \n",
       "1             1        0           0    2   51  Every three months  Female  \n",
       "2             1        1           0    1   62  Every three months  Female  \n",
       "3             0        0           1    4   69         Once a week  Female  \n",
       "4             0        1           0    2   49        Once a month    Male  \n",
       "...         ...      ...         ...  ...  ...                 ...     ...  \n",
       "1448          1        0           1   -5   47         Once a year    Male  \n",
       "1449          0        1           0    2   36         Once a week  Female  \n",
       "1450          1        0           0    3   52        Once a month  Female  \n",
       "1451          0        1           0    4   41  Every three months    Male  \n",
       "1452          1        0           1   -3   30  Every three months    Male  \n",
       "\n",
       "[1453 rows x 15 columns]"
      ]
     },
     "execution_count": 25,
     "metadata": {},
     "output_type": "execute_result"
    }
   ],
   "source": [
    "def labelling(x):\n",
    "    df[x] = LabelEncoder().fit_transform(df[x])\n",
    "    return df\n",
    "\n",
    "df_cat = df.iloc[:,0:11]\n",
    "for i in df_cat:\n",
    "    labelling(i)\n",
    "    \n",
    "df"
   ]
  },
  {
   "cell_type": "code",
   "execution_count": 27,
   "id": "cbab8da3",
   "metadata": {},
   "outputs": [
    {
     "data": {
      "text/html": [
       "<div>\n",
       "<style scoped>\n",
       "    .dataframe tbody tr th:only-of-type {\n",
       "        vertical-align: middle;\n",
       "    }\n",
       "\n",
       "    .dataframe tbody tr th {\n",
       "        vertical-align: top;\n",
       "    }\n",
       "\n",
       "    .dataframe thead th {\n",
       "        text-align: right;\n",
       "    }\n",
       "</style>\n",
       "<table border=\"1\" class=\"dataframe\">\n",
       "  <thead>\n",
       "    <tr style=\"text-align: right;\">\n",
       "      <th></th>\n",
       "      <th>yummy</th>\n",
       "      <th>convenient</th>\n",
       "      <th>spicy</th>\n",
       "      <th>fattening</th>\n",
       "      <th>greasy</th>\n",
       "      <th>fast</th>\n",
       "      <th>cheap</th>\n",
       "      <th>tasty</th>\n",
       "      <th>expensive</th>\n",
       "      <th>healthy</th>\n",
       "      <th>disgusting</th>\n",
       "    </tr>\n",
       "  </thead>\n",
       "  <tbody>\n",
       "    <tr>\n",
       "      <th>0</th>\n",
       "      <td>0</td>\n",
       "      <td>1</td>\n",
       "      <td>0</td>\n",
       "      <td>1</td>\n",
       "      <td>0</td>\n",
       "      <td>1</td>\n",
       "      <td>1</td>\n",
       "      <td>0</td>\n",
       "      <td>1</td>\n",
       "      <td>0</td>\n",
       "      <td>0</td>\n",
       "    </tr>\n",
       "    <tr>\n",
       "      <th>1</th>\n",
       "      <td>1</td>\n",
       "      <td>1</td>\n",
       "      <td>0</td>\n",
       "      <td>1</td>\n",
       "      <td>1</td>\n",
       "      <td>1</td>\n",
       "      <td>1</td>\n",
       "      <td>1</td>\n",
       "      <td>1</td>\n",
       "      <td>0</td>\n",
       "      <td>0</td>\n",
       "    </tr>\n",
       "    <tr>\n",
       "      <th>2</th>\n",
       "      <td>0</td>\n",
       "      <td>1</td>\n",
       "      <td>1</td>\n",
       "      <td>1</td>\n",
       "      <td>1</td>\n",
       "      <td>1</td>\n",
       "      <td>0</td>\n",
       "      <td>1</td>\n",
       "      <td>1</td>\n",
       "      <td>1</td>\n",
       "      <td>0</td>\n",
       "    </tr>\n",
       "    <tr>\n",
       "      <th>3</th>\n",
       "      <td>1</td>\n",
       "      <td>1</td>\n",
       "      <td>0</td>\n",
       "      <td>1</td>\n",
       "      <td>1</td>\n",
       "      <td>1</td>\n",
       "      <td>1</td>\n",
       "      <td>1</td>\n",
       "      <td>0</td>\n",
       "      <td>0</td>\n",
       "      <td>1</td>\n",
       "    </tr>\n",
       "    <tr>\n",
       "      <th>4</th>\n",
       "      <td>0</td>\n",
       "      <td>1</td>\n",
       "      <td>0</td>\n",
       "      <td>1</td>\n",
       "      <td>1</td>\n",
       "      <td>1</td>\n",
       "      <td>1</td>\n",
       "      <td>0</td>\n",
       "      <td>0</td>\n",
       "      <td>1</td>\n",
       "      <td>0</td>\n",
       "    </tr>\n",
       "    <tr>\n",
       "      <th>...</th>\n",
       "      <td>...</td>\n",
       "      <td>...</td>\n",
       "      <td>...</td>\n",
       "      <td>...</td>\n",
       "      <td>...</td>\n",
       "      <td>...</td>\n",
       "      <td>...</td>\n",
       "      <td>...</td>\n",
       "      <td>...</td>\n",
       "      <td>...</td>\n",
       "      <td>...</td>\n",
       "    </tr>\n",
       "    <tr>\n",
       "      <th>1448</th>\n",
       "      <td>0</td>\n",
       "      <td>1</td>\n",
       "      <td>0</td>\n",
       "      <td>1</td>\n",
       "      <td>1</td>\n",
       "      <td>0</td>\n",
       "      <td>0</td>\n",
       "      <td>0</td>\n",
       "      <td>1</td>\n",
       "      <td>0</td>\n",
       "      <td>1</td>\n",
       "    </tr>\n",
       "    <tr>\n",
       "      <th>1449</th>\n",
       "      <td>1</td>\n",
       "      <td>1</td>\n",
       "      <td>0</td>\n",
       "      <td>1</td>\n",
       "      <td>0</td>\n",
       "      <td>0</td>\n",
       "      <td>1</td>\n",
       "      <td>1</td>\n",
       "      <td>0</td>\n",
       "      <td>1</td>\n",
       "      <td>0</td>\n",
       "    </tr>\n",
       "    <tr>\n",
       "      <th>1450</th>\n",
       "      <td>1</td>\n",
       "      <td>1</td>\n",
       "      <td>0</td>\n",
       "      <td>1</td>\n",
       "      <td>0</td>\n",
       "      <td>1</td>\n",
       "      <td>0</td>\n",
       "      <td>1</td>\n",
       "      <td>1</td>\n",
       "      <td>0</td>\n",
       "      <td>0</td>\n",
       "    </tr>\n",
       "    <tr>\n",
       "      <th>1451</th>\n",
       "      <td>1</td>\n",
       "      <td>1</td>\n",
       "      <td>0</td>\n",
       "      <td>0</td>\n",
       "      <td>0</td>\n",
       "      <td>1</td>\n",
       "      <td>1</td>\n",
       "      <td>1</td>\n",
       "      <td>0</td>\n",
       "      <td>1</td>\n",
       "      <td>0</td>\n",
       "    </tr>\n",
       "    <tr>\n",
       "      <th>1452</th>\n",
       "      <td>0</td>\n",
       "      <td>1</td>\n",
       "      <td>0</td>\n",
       "      <td>1</td>\n",
       "      <td>1</td>\n",
       "      <td>0</td>\n",
       "      <td>0</td>\n",
       "      <td>0</td>\n",
       "      <td>1</td>\n",
       "      <td>0</td>\n",
       "      <td>1</td>\n",
       "    </tr>\n",
       "  </tbody>\n",
       "</table>\n",
       "<p>1453 rows × 11 columns</p>\n",
       "</div>"
      ],
      "text/plain": [
       "      yummy  convenient  spicy  fattening  greasy  fast  cheap  tasty  \\\n",
       "0         0           1      0          1       0     1      1      0   \n",
       "1         1           1      0          1       1     1      1      1   \n",
       "2         0           1      1          1       1     1      0      1   \n",
       "3         1           1      0          1       1     1      1      1   \n",
       "4         0           1      0          1       1     1      1      0   \n",
       "...     ...         ...    ...        ...     ...   ...    ...    ...   \n",
       "1448      0           1      0          1       1     0      0      0   \n",
       "1449      1           1      0          1       0     0      1      1   \n",
       "1450      1           1      0          1       0     1      0      1   \n",
       "1451      1           1      0          0       0     1      1      1   \n",
       "1452      0           1      0          1       1     0      0      0   \n",
       "\n",
       "      expensive  healthy  disgusting  \n",
       "0             1        0           0  \n",
       "1             1        0           0  \n",
       "2             1        1           0  \n",
       "3             0        0           1  \n",
       "4             0        1           0  \n",
       "...         ...      ...         ...  \n",
       "1448          1        0           1  \n",
       "1449          0        1           0  \n",
       "1450          1        0           0  \n",
       "1451          0        1           0  \n",
       "1452          1        0           1  \n",
       "\n",
       "[1453 rows x 11 columns]"
      ]
     },
     "execution_count": 27,
     "metadata": {},
     "output_type": "execute_result"
    }
   ],
   "source": [
    "df_cat"
   ]
  },
  {
   "cell_type": "code",
   "execution_count": 17,
   "id": "d3fcb44a",
   "metadata": {},
   "outputs": [
    {
     "data": {
      "image/png": "[encoded data removed]",
      "text/plain": [
       "<Figure size 1080x576 with 2 Axes>"
      ]
     },
     "metadata": {
      "needs_background": "light"
     },
     "output_type": "display_data"
    }
   ],
   "source": [
    "plt.figure(figsize=(15,8))\n",
    "sns.heatmap(df.corr())\n",
    "plt.show()"
   ]
  },
  {
   "cell_type": "code",
   "execution_count": 18,
   "id": "3d740e9c",
   "metadata": {},
   "outputs": [
    {
     "data": {
      "text/plain": [
       "Text(0, 0.5, 'Number of Customers')"
      ]
     },
     "execution_count": 18,
     "metadata": {},
     "output_type": "execute_result"
    },
    {
     "data": {
      "image/png": "[encoded data removed]",
      "text/plain": [
       "<Figure size 1080x576 with 1 Axes>"
      ]
     },
     "metadata": {
      "needs_background": "light"
     },
     "output_type": "display_data"
    }
   ],
   "source": [
    "plt.figure(figsize=(15,8))\n",
    "plt.hist(df['Age'],edgecolor='black')\n",
    "plt.xlabel('Age')\n",
    "plt.ylabel('Number of Customers')"
   ]
  },
  {
   "cell_type": "code",
   "execution_count": 19,
   "id": "65b47df3",
   "metadata": {},
   "outputs": [
    {
     "data": {
      "text/plain": [
       "array([[<AxesSubplot:title={'center':'yummy'}>,\n",
       "        <AxesSubplot:title={'center':'convenient'}>,\n",
       "        <AxesSubplot:title={'center':'spicy'}>],\n",
       "       [<AxesSubplot:title={'center':'fattening'}>,\n",
       "        <AxesSubplot:title={'center':'greasy'}>,\n",
       "        <AxesSubplot:title={'center':'fast'}>],\n",
       "       [<AxesSubplot:title={'center':'cheap'}>,\n",
       "        <AxesSubplot:title={'center':'tasty'}>,\n",
       "        <AxesSubplot:title={'center':'expensive'}>],\n",
       "       [<AxesSubplot:title={'center':'healthy'}>,\n",
       "        <AxesSubplot:title={'center':'disgusting'}>,\n",
       "        <AxesSubplot:title={'center':'Age'}>]], dtype=object)"
      ]
     },
     "execution_count": 19,
     "metadata": {},
     "output_type": "execute_result"
    },
    {
     "data": {
      "image/png": "[encoded data removed]",
      "text/plain": [
       "<Figure size 864x1008 with 12 Axes>"
      ]
     },
     "metadata": {
      "needs_background": "light"
     },
     "output_type": "display_data"
    }
   ],
   "source": [
    "plt.rcParams['figure.figsize'] = (12,14)\n",
    "df.hist()"
   ]
  },
  {
   "cell_type": "code",
   "execution_count": 28,
   "id": "95eb03f9",
   "metadata": {},
   "outputs": [
    {
     "data": {
      "text/plain": [
       "array([[0, 1, 0, ..., 1, 0, 0],\n",
       "       [1, 1, 0, ..., 1, 0, 0],\n",
       "       [0, 1, 1, ..., 1, 1, 0],\n",
       "       ...,\n",
       "       [1, 1, 0, ..., 1, 0, 0],\n",
       "       [1, 1, 0, ..., 0, 1, 0],\n",
       "       [0, 1, 0, ..., 1, 0, 1]])"
      ]
     },
     "execution_count": 28,
     "metadata": {},
     "output_type": "execute_result"
    }
   ],
   "source": [
    "# converting 11 categorical columns into array\n",
    "x = df_cat.values\n",
    "x"
   ]
  },
  {
   "cell_type": "code",
   "execution_count": 21,
   "id": "23551a92",
   "metadata": {},
   "outputs": [
    {
     "data": {
      "text/plain": [
       "yummy         0.55\n",
       "convenient    0.91\n",
       "spicy         0.09\n",
       "fattening     0.87\n",
       "greasy        0.53\n",
       "fast          0.90\n",
       "cheap         0.60\n",
       "tasty         0.64\n",
       "expensive     0.36\n",
       "healthy       0.20\n",
       "disgusting    0.24\n",
       "dtype: float64"
      ]
     },
     "execution_count": 21,
     "metadata": {},
     "output_type": "execute_result"
    }
   ],
   "source": [
    "# calculating mean of 11 columns\n",
    "round(df.iloc[:,0:11].mean(),2)"
   ]
  },
  {
   "cell_type": "markdown",
   "id": "ea005617",
   "metadata": {},
   "source": [
    "# Principal Component Analysis"
   ]
  },
  {
   "cell_type": "code",
   "execution_count": 22,
   "id": "c064aaa3",
   "metadata": {},
   "outputs": [],
   "source": [
    "from sklearn.decomposition import PCA\n",
    "from sklearn import preprocessing"
   ]
  },
  {
   "cell_type": "code",
   "execution_count": 29,
   "id": "d1fc1e5b",
   "metadata": {},
   "outputs": [],
   "source": [
    "pca_data = preprocessing.scale(x)"
   ]
  },
  {
   "cell_type": "code",
   "execution_count": 30,
   "id": "256c1fb3",
   "metadata": {},
   "outputs": [
    {
     "name": "stdout",
     "output_type": "stream",
     "text": [
      "[[ 0.42536706 -0.21907878  0.6632553  ...  0.18100693  0.51570617\n",
      "  -0.56707389]\n",
      " [-0.21863768  0.38818996 -0.73082668 ...  0.11147641  0.49331285\n",
      "  -0.50044033]\n",
      " [ 0.37541475  0.73043507 -0.12203978 ... -0.32228786  0.06175857\n",
      "   0.24274108]\n",
      " ...\n",
      " [-0.18589445  1.06266156  0.22085675 ...  0.03825472  0.05651822\n",
      "  -0.01279977]\n",
      " [-1.18206441 -0.03856977  0.56156066 ...  0.02226748 -0.00257265\n",
      "  -0.10531631]\n",
      " [ 1.55024186  0.27503101 -0.01373727 ... -0.13658866 -0.43279782\n",
      "  -0.45607556]]\n"
     ]
    }
   ],
   "source": [
    "pca = PCA(n_components=11)\n",
    "pc = pca.fit_transform(x)\n",
    "print(pc)"
   ]
  },
  {
   "cell_type": "code",
   "execution_count": 31,
   "id": "1158a64b",
   "metadata": {},
   "outputs": [
    {
     "data": {
      "text/html": [
       "<div>\n",
       "<style scoped>\n",
       "    .dataframe tbody tr th:only-of-type {\n",
       "        vertical-align: middle;\n",
       "    }\n",
       "\n",
       "    .dataframe tbody tr th {\n",
       "        vertical-align: top;\n",
       "    }\n",
       "\n",
       "    .dataframe thead th {\n",
       "        text-align: right;\n",
       "    }\n",
       "</style>\n",
       "<table border=\"1\" class=\"dataframe\">\n",
       "  <thead>\n",
       "    <tr style=\"text-align: right;\">\n",
       "      <th></th>\n",
       "      <th>PC1</th>\n",
       "      <th>PC2</th>\n",
       "      <th>PC3</th>\n",
       "      <th>PC4</th>\n",
       "      <th>PC5</th>\n",
       "      <th>PC6</th>\n",
       "      <th>PC7</th>\n",
       "      <th>PC8</th>\n",
       "      <th>PC9</th>\n",
       "      <th>PC10</th>\n",
       "      <th>PC11</th>\n",
       "    </tr>\n",
       "  </thead>\n",
       "  <tbody>\n",
       "    <tr>\n",
       "      <th>0</th>\n",
       "      <td>0.425367</td>\n",
       "      <td>-0.219079</td>\n",
       "      <td>0.663255</td>\n",
       "      <td>-0.401300</td>\n",
       "      <td>0.201705</td>\n",
       "      <td>-0.389767</td>\n",
       "      <td>-0.211982</td>\n",
       "      <td>0.163235</td>\n",
       "      <td>0.181007</td>\n",
       "      <td>0.515706</td>\n",
       "      <td>-0.567074</td>\n",
       "    </tr>\n",
       "    <tr>\n",
       "      <th>1</th>\n",
       "      <td>-0.218638</td>\n",
       "      <td>0.388190</td>\n",
       "      <td>-0.730827</td>\n",
       "      <td>-0.094724</td>\n",
       "      <td>0.044669</td>\n",
       "      <td>-0.086596</td>\n",
       "      <td>-0.095877</td>\n",
       "      <td>-0.034756</td>\n",
       "      <td>0.111476</td>\n",
       "      <td>0.493313</td>\n",
       "      <td>-0.500440</td>\n",
       "    </tr>\n",
       "    <tr>\n",
       "      <th>2</th>\n",
       "      <td>0.375415</td>\n",
       "      <td>0.730435</td>\n",
       "      <td>-0.122040</td>\n",
       "      <td>0.692262</td>\n",
       "      <td>0.839643</td>\n",
       "      <td>-0.687406</td>\n",
       "      <td>0.583112</td>\n",
       "      <td>0.364379</td>\n",
       "      <td>-0.322288</td>\n",
       "      <td>0.061759</td>\n",
       "      <td>0.242741</td>\n",
       "    </tr>\n",
       "    <tr>\n",
       "      <th>3</th>\n",
       "      <td>-0.172926</td>\n",
       "      <td>-0.352752</td>\n",
       "      <td>-0.843795</td>\n",
       "      <td>0.206998</td>\n",
       "      <td>-0.681415</td>\n",
       "      <td>-0.036133</td>\n",
       "      <td>-0.054284</td>\n",
       "      <td>-0.231477</td>\n",
       "      <td>-0.028003</td>\n",
       "      <td>-0.250678</td>\n",
       "      <td>-0.051034</td>\n",
       "    </tr>\n",
       "    <tr>\n",
       "      <th>4</th>\n",
       "      <td>0.187057</td>\n",
       "      <td>-0.807610</td>\n",
       "      <td>0.028537</td>\n",
       "      <td>0.548332</td>\n",
       "      <td>0.854074</td>\n",
       "      <td>-0.097305</td>\n",
       "      <td>-0.457043</td>\n",
       "      <td>0.171758</td>\n",
       "      <td>-0.074409</td>\n",
       "      <td>0.031897</td>\n",
       "      <td>0.082245</td>\n",
       "    </tr>\n",
       "  </tbody>\n",
       "</table>\n",
       "</div>"
      ],
      "text/plain": [
       "        PC1       PC2       PC3       PC4       PC5       PC6       PC7  \\\n",
       "0  0.425367 -0.219079  0.663255 -0.401300  0.201705 -0.389767 -0.211982   \n",
       "1 -0.218638  0.388190 -0.730827 -0.094724  0.044669 -0.086596 -0.095877   \n",
       "2  0.375415  0.730435 -0.122040  0.692262  0.839643 -0.687406  0.583112   \n",
       "3 -0.172926 -0.352752 -0.843795  0.206998 -0.681415 -0.036133 -0.054284   \n",
       "4  0.187057 -0.807610  0.028537  0.548332  0.854074 -0.097305 -0.457043   \n",
       "\n",
       "        PC8       PC9      PC10      PC11  \n",
       "0  0.163235  0.181007  0.515706 -0.567074  \n",
       "1 -0.034756  0.111476  0.493313 -0.500440  \n",
       "2  0.364379 -0.322288  0.061759  0.242741  \n",
       "3 -0.231477 -0.028003 -0.250678 -0.051034  \n",
       "4  0.171758 -0.074409  0.031897  0.082245  "
      ]
     },
     "execution_count": 31,
     "metadata": {},
     "output_type": "execute_result"
    }
   ],
   "source": [
    "# Inserting pc into a dataFrame\n",
    "colnames = ['PC1','PC2','PC3','PC4','PC5','PC6','PC7','PC8','PC9','PC10','PC11']\n",
    "df_pc = pd.DataFrame(data = pc, columns=colnames)\n",
    "df_pc.head()"
   ]
  },
  {
   "cell_type": "code",
   "execution_count": 32,
   "id": "14a3a1af",
   "metadata": {},
   "outputs": [
    {
     "data": {
      "text/html": [
       "<div>\n",
       "<style scoped>\n",
       "    .dataframe tbody tr th:only-of-type {\n",
       "        vertical-align: middle;\n",
       "    }\n",
       "\n",
       "    .dataframe tbody tr th {\n",
       "        vertical-align: top;\n",
       "    }\n",
       "\n",
       "    .dataframe thead th {\n",
       "        text-align: right;\n",
       "    }\n",
       "</style>\n",
       "<table border=\"1\" class=\"dataframe\">\n",
       "  <thead>\n",
       "    <tr style=\"text-align: right;\">\n",
       "      <th></th>\n",
       "      <th>PC1</th>\n",
       "      <th>PC2</th>\n",
       "      <th>PC3</th>\n",
       "      <th>PC4</th>\n",
       "      <th>PC5</th>\n",
       "      <th>PC6</th>\n",
       "      <th>PC7</th>\n",
       "      <th>PC8</th>\n",
       "      <th>PC9</th>\n",
       "      <th>PC10</th>\n",
       "      <th>PC11</th>\n",
       "    </tr>\n",
       "  </thead>\n",
       "  <tbody>\n",
       "    <tr>\n",
       "      <th>count</th>\n",
       "      <td>1.453000e+03</td>\n",
       "      <td>1.453000e+03</td>\n",
       "      <td>1.453000e+03</td>\n",
       "      <td>1.453000e+03</td>\n",
       "      <td>1.453000e+03</td>\n",
       "      <td>1.453000e+03</td>\n",
       "      <td>1.453000e+03</td>\n",
       "      <td>1.453000e+03</td>\n",
       "      <td>1.453000e+03</td>\n",
       "      <td>1.453000e+03</td>\n",
       "      <td>1.453000e+03</td>\n",
       "    </tr>\n",
       "    <tr>\n",
       "      <th>mean</th>\n",
       "      <td>4.951304e-17</td>\n",
       "      <td>-4.034396e-17</td>\n",
       "      <td>-7.130872e-17</td>\n",
       "      <td>4.233060e-17</td>\n",
       "      <td>-1.365811e-17</td>\n",
       "      <td>-3.629428e-17</td>\n",
       "      <td>3.123219e-17</td>\n",
       "      <td>-6.991425e-18</td>\n",
       "      <td>-5.020072e-17</td>\n",
       "      <td>2.338116e-17</td>\n",
       "      <td>2.922645e-17</td>\n",
       "    </tr>\n",
       "    <tr>\n",
       "      <th>std</th>\n",
       "      <td>7.570495e-01</td>\n",
       "      <td>6.074556e-01</td>\n",
       "      <td>5.046195e-01</td>\n",
       "      <td>3.987986e-01</td>\n",
       "      <td>3.374050e-01</td>\n",
       "      <td>3.102746e-01</td>\n",
       "      <td>2.896973e-01</td>\n",
       "      <td>2.751220e-01</td>\n",
       "      <td>2.652511e-01</td>\n",
       "      <td>2.488418e-01</td>\n",
       "      <td>2.369028e-01</td>\n",
       "    </tr>\n",
       "    <tr>\n",
       "      <th>min</th>\n",
       "      <td>-1.188421e+00</td>\n",
       "      <td>-1.040274e+00</td>\n",
       "      <td>-8.808133e-01</td>\n",
       "      <td>-5.906209e-01</td>\n",
       "      <td>-1.045938e+00</td>\n",
       "      <td>-8.524911e-01</td>\n",
       "      <td>-8.059463e-01</td>\n",
       "      <td>-9.316201e-01</td>\n",
       "      <td>-9.557606e-01</td>\n",
       "      <td>-8.871971e-01</td>\n",
       "      <td>-8.851439e-01</td>\n",
       "    </tr>\n",
       "    <tr>\n",
       "      <th>25%</th>\n",
       "      <td>-5.476794e-01</td>\n",
       "      <td>-3.568482e-01</td>\n",
       "      <td>-4.507793e-01</td>\n",
       "      <td>-2.814986e-01</td>\n",
       "      <td>-2.433247e-01</td>\n",
       "      <td>-1.927027e-01</td>\n",
       "      <td>-1.342190e-01</td>\n",
       "      <td>-1.717258e-01</td>\n",
       "      <td>-1.181233e-01</td>\n",
       "      <td>-1.465751e-01</td>\n",
       "      <td>-1.053163e-01</td>\n",
       "    </tr>\n",
       "    <tr>\n",
       "      <th>50%</th>\n",
       "      <td>-7.074592e-02</td>\n",
       "      <td>-1.151632e-01</td>\n",
       "      <td>2.687734e-02</td>\n",
       "      <td>-1.163200e-01</td>\n",
       "      <td>3.348785e-02</td>\n",
       "      <td>-3.460184e-02</td>\n",
       "      <td>-6.366220e-02</td>\n",
       "      <td>-3.475619e-02</td>\n",
       "      <td>3.868061e-02</td>\n",
       "      <td>3.020635e-02</td>\n",
       "      <td>-1.201409e-02</td>\n",
       "    </tr>\n",
       "    <tr>\n",
       "      <th>75%</th>\n",
       "      <td>4.933012e-01</td>\n",
       "      <td>3.915540e-01</td>\n",
       "      <td>3.515939e-01</td>\n",
       "      <td>2.702298e-01</td>\n",
       "      <td>2.048293e-01</td>\n",
       "      <td>1.747453e-01</td>\n",
       "      <td>2.318357e-02</td>\n",
       "      <td>1.295966e-01</td>\n",
       "      <td>7.987794e-02</td>\n",
       "      <td>7.001416e-02</td>\n",
       "      <td>8.554080e-02</td>\n",
       "    </tr>\n",
       "    <tr>\n",
       "      <th>max</th>\n",
       "      <td>1.705573e+00</td>\n",
       "      <td>1.279130e+00</td>\n",
       "      <td>1.326976e+00</td>\n",
       "      <td>1.355278e+00</td>\n",
       "      <td>1.053327e+00</td>\n",
       "      <td>1.323793e+00</td>\n",
       "      <td>1.350886e+00</td>\n",
       "      <td>1.121388e+00</td>\n",
       "      <td>1.086693e+00</td>\n",
       "      <td>1.181524e+00</td>\n",
       "      <td>9.255829e-01</td>\n",
       "    </tr>\n",
       "  </tbody>\n",
       "</table>\n",
       "</div>"
      ],
      "text/plain": [
       "                PC1           PC2           PC3           PC4           PC5  \\\n",
       "count  1.453000e+03  1.453000e+03  1.453000e+03  1.453000e+03  1.453000e+03   \n",
       "mean   4.951304e-17 -4.034396e-17 -7.130872e-17  4.233060e-17 -1.365811e-17   \n",
       "std    7.570495e-01  6.074556e-01  5.046195e-01  3.987986e-01  3.374050e-01   \n",
       "min   -1.188421e+00 -1.040274e+00 -8.808133e-01 -5.906209e-01 -1.045938e+00   \n",
       "25%   -5.476794e-01 -3.568482e-01 -4.507793e-01 -2.814986e-01 -2.433247e-01   \n",
       "50%   -7.074592e-02 -1.151632e-01  2.687734e-02 -1.163200e-01  3.348785e-02   \n",
       "75%    4.933012e-01  3.915540e-01  3.515939e-01  2.702298e-01  2.048293e-01   \n",
       "max    1.705573e+00  1.279130e+00  1.326976e+00  1.355278e+00  1.053327e+00   \n",
       "\n",
       "                PC6           PC7           PC8           PC9          PC10  \\\n",
       "count  1.453000e+03  1.453000e+03  1.453000e+03  1.453000e+03  1.453000e+03   \n",
       "mean  -3.629428e-17  3.123219e-17 -6.991425e-18 -5.020072e-17  2.338116e-17   \n",
       "std    3.102746e-01  2.896973e-01  2.751220e-01  2.652511e-01  2.488418e-01   \n",
       "min   -8.524911e-01 -8.059463e-01 -9.316201e-01 -9.557606e-01 -8.871971e-01   \n",
       "25%   -1.927027e-01 -1.342190e-01 -1.717258e-01 -1.181233e-01 -1.465751e-01   \n",
       "50%   -3.460184e-02 -6.366220e-02 -3.475619e-02  3.868061e-02  3.020635e-02   \n",
       "75%    1.747453e-01  2.318357e-02  1.295966e-01  7.987794e-02  7.001416e-02   \n",
       "max    1.323793e+00  1.350886e+00  1.121388e+00  1.086693e+00  1.181524e+00   \n",
       "\n",
       "               PC11  \n",
       "count  1.453000e+03  \n",
       "mean   2.922645e-17  \n",
       "std    2.369028e-01  \n",
       "min   -8.851439e-01  \n",
       "25%   -1.053163e-01  \n",
       "50%   -1.201409e-02  \n",
       "75%    8.554080e-02  \n",
       "max    9.255829e-01  "
      ]
     },
     "execution_count": 32,
     "metadata": {},
     "output_type": "execute_result"
    }
   ],
   "source": [
    "df_pc.describe()"
   ]
  },
  {
   "cell_type": "code",
   "execution_count": 33,
   "id": "a37ca06f",
   "metadata": {},
   "outputs": [
    {
     "data": {
      "text/plain": [
       "array([0.29944723, 0.19279721, 0.13304535, 0.08309578, 0.05948052,\n",
       "       0.05029956, 0.0438491 , 0.03954779, 0.0367609 , 0.03235329,\n",
       "       0.02932326])"
      ]
     },
     "execution_count": 33,
     "metadata": {},
     "output_type": "execute_result"
    }
   ],
   "source": [
    "pca_variance = pca.explained_variance_ratio_\n",
    "pca_variance"
   ]
  },
  {
   "cell_type": "code",
   "execution_count": 34,
   "id": "bbde65c8",
   "metadata": {},
   "outputs": [
    {
     "data": {
      "text/plain": [
       "array([0.29944723, 0.49224445, 0.6252898 , 0.70838558, 0.7678661 ,\n",
       "       0.81816566, 0.86201476, 0.90156255, 0.93832345, 0.97067674,\n",
       "       1.        ])"
      ]
     },
     "execution_count": 34,
     "metadata": {},
     "output_type": "execute_result"
    }
   ],
   "source": [
    "np.cumsum(pca_variance)"
   ]
  },
  {
   "cell_type": "code",
   "execution_count": 35,
   "id": "dba61771",
   "metadata": {},
   "outputs": [],
   "source": [
    "from bioinfokit.visuz import cluster"
   ]
  },
  {
   "cell_type": "code",
   "execution_count": 36,
   "id": "13593ce7",
   "metadata": {},
   "outputs": [
    {
     "data": {
      "image/png": "[encoded data removed]",
      "text/plain": [
       "<Figure size 720x360 with 1 Axes>"
      ]
     },
     "metadata": {
      "needs_background": "light"
     },
     "output_type": "display_data"
    }
   ],
   "source": [
    "#Scree plot (Elbow test)- PCA\n",
    "num_pc = pca.n_features_\n",
    "pc_list = [\"PC\"+str(i) for i in list(range(1, num_pc+1))]\n",
    "cluster.screeplot(obj=[pc_list, pca.explained_variance_ratio_],show=True,dim=(10,5))"
   ]
  },
  {
   "cell_type": "code",
   "execution_count": 37,
   "id": "baf0f355",
   "metadata": {},
   "outputs": [],
   "source": [
    "# get PC scores\n",
    "pca_scores = PCA().fit_transform(x)"
   ]
  },
  {
   "cell_type": "code",
   "execution_count": 38,
   "id": "cbe82bdd",
   "metadata": {},
   "outputs": [
    {
     "data": {
      "image/png": "[encoded data removed]",
      "text/plain": [
       "<Figure size 720x360 with 1 Axes>"
      ]
     },
     "metadata": {
      "needs_background": "light"
     },
     "output_type": "display_data"
    }
   ],
   "source": [
    "# get 2D biplot\n",
    "cluster.biplot(cscore=pca_scores, loadings=pca.components_, labels=df.columns.values, var1=round(pca.explained_variance_ratio_[0]*100, 2),\n",
    "    var2=round(pca.explained_variance_ratio_[1]*100, 2),show=True,dim=(10,5))"
   ]
  },
  {
   "cell_type": "markdown",
   "id": "574c227d",
   "metadata": {},
   "source": [
    "# Extracting Segments\n"
   ]
  },
  {
   "cell_type": "code",
   "execution_count": 39,
   "id": "5096e97e",
   "metadata": {},
   "outputs": [],
   "source": [
    "# K-means\n",
    "from sklearn.cluster import KMeans"
   ]
  },
  {
   "cell_type": "code",
   "execution_count": 40,
   "id": "32f143e6",
   "metadata": {},
   "outputs": [
    {
     "name": "stdout",
     "output_type": "stream",
     "text": [
      "Labels to input data : [2 0 0 ... 0 1 3]\n",
      "kMeans Inertia : 1603.0604440558916\n",
      "No. of iterations : 7\n",
      "Centriods Location:\n",
      " [[0.85448916 0.9628483  0.13312693 0.90712074 0.61919505 0.86068111\n",
      "  0.10835913 0.93188854 0.89783282 0.20433437 0.10526316]\n",
      " [0.88793103 0.98103448 0.0862069  0.79482759 0.32931034 0.96034483\n",
      "  0.92241379 0.97586207 0.01724138 0.32068966 0.04310345]\n",
      " [0.02302632 0.89144737 0.07236842 0.92434211 0.66776316 0.96381579\n",
      "  0.93421053 0.15460526 0.01315789 0.07236842 0.38815789]\n",
      " [0.0203252  0.68292683 0.08536585 0.91463415 0.69512195 0.73170732\n",
      "  0.06504065 0.08943089 0.87804878 0.06097561 0.71544715]]\n"
     ]
    }
   ],
   "source": [
    "kmeans = KMeans(n_clusters=4, init='k-means++', random_state=0).fit(df_cat)\n",
    "df['cluster_num'] = kmeans.labels_#adding to df\n",
    "print ('Labels to input data :', kmeans.labels_) #Label assigned for each data point\n",
    "print ('kMeans Inertia :',kmeans.inertia_) #gives within-cluster sum of squares. \n",
    "print('No. of iterations :', kmeans.n_iter_) #number of iterations that k-means algorithm runs to get a minimum within-cluster sum of squares\n",
    "print('Centriods Location:\\n', kmeans.cluster_centers_) #Location of the centroids on each cluster. "
   ]
  },
  {
   "cell_type": "code",
   "execution_count": 41,
   "id": "b5d7bed5",
   "metadata": {},
   "outputs": [
    {
     "data": {
      "text/plain": [
       "1    580\n",
       "0    323\n",
       "2    304\n",
       "3    246\n",
       "Name: cluster_num, dtype: int64"
      ]
     },
     "execution_count": 41,
     "metadata": {},
     "output_type": "execute_result"
    }
   ],
   "source": [
    "df['cluster_num'].value_counts()"
   ]
  },
  {
   "cell_type": "code",
   "execution_count": 42,
   "id": "6749c800",
   "metadata": {},
   "outputs": [],
   "source": [
    "from collections import Counter"
   ]
  },
  {
   "cell_type": "code",
   "execution_count": 43,
   "id": "3886e5d0",
   "metadata": {},
   "outputs": [
    {
     "data": {
      "text/plain": [
       "Counter({2: 304, 0: 323, 1: 580, 3: 246})"
      ]
     },
     "execution_count": 43,
     "metadata": {},
     "output_type": "execute_result"
    }
   ],
   "source": [
    "#To see each cluster size\n",
    "Counter(kmeans.labels_)"
   ]
  },
  {
   "cell_type": "code",
   "execution_count": 44,
   "id": "115170ba",
   "metadata": {},
   "outputs": [
    {
     "data": {
      "image/png": "[encoded data removed]",
      "text/plain": [
       "<Figure size 864x1008 with 1 Axes>"
      ]
     },
     "metadata": {
      "needs_background": "light"
     },
     "output_type": "display_data"
    }
   ],
   "source": [
    "#Visulazing clusters\n",
    "sns.scatterplot(data=df_pc, x=\"PC1\", y=\"PC2\", hue=kmeans.labels_)\n",
    "plt.scatter(kmeans.cluster_centers_[:,0], kmeans.cluster_centers_[:,1], \n",
    "            marker=\"X\", c=\"r\", s=80, label=\"centroids\")\n",
    "plt.legend()\n",
    "plt.show()"
   ]
  },
  {
   "cell_type": "code",
   "execution_count": 45,
   "id": "83c08f4c",
   "metadata": {},
   "outputs": [],
   "source": [
    "from scipy.cluster.hierarchy import linkage, dendrogram"
   ]
  },
  {
   "cell_type": "code",
   "execution_count": 46,
   "id": "68b74120",
   "metadata": {},
   "outputs": [
    {
     "data": {
      "image/png": "[encoded data removed]",
      "text/plain": [
       "<Figure size 504x360 with 1 Axes>"
      ]
     },
     "metadata": {
      "needs_background": "light"
     },
     "output_type": "display_data"
    }
   ],
   "source": [
    "#create demogram and find the best clustering value\n",
    "merg = linkage(df_cat, method='ward')\n",
    "plt.rcParams['figure.figsize'] = (7,5)\n",
    "dendrogram(merg,leaf_rotation = 90)\n",
    "plt.xlabel(\"data points\", fontsize = 15)\n",
    "plt.ylabel(\"euclidean distance\", fontsize=15)\n",
    "plt.show()"
   ]
  },
  {
   "cell_type": "markdown",
   "id": "4d28deeb",
   "metadata": {},
   "source": [
    "# Describing Segments\n"
   ]
  },
  {
   "cell_type": "code",
   "execution_count": 47,
   "id": "98e2e2c7",
   "metadata": {},
   "outputs": [],
   "source": [
    "from statsmodels.graphics.mosaicplot import mosaic\n",
    "from itertools import product"
   ]
  },
  {
   "cell_type": "code",
   "execution_count": 48,
   "id": "1e54e31e",
   "metadata": {},
   "outputs": [],
   "source": [
    "crosstab =pd.crosstab(df['cluster_num'],df['Like'])"
   ]
  },
  {
   "cell_type": "code",
   "execution_count": 49,
   "id": "7a94f2b5",
   "metadata": {},
   "outputs": [
    {
     "data": {
      "text/html": [
       "<div>\n",
       "<style scoped>\n",
       "    .dataframe tbody tr th:only-of-type {\n",
       "        vertical-align: middle;\n",
       "    }\n",
       "\n",
       "    .dataframe tbody tr th {\n",
       "        vertical-align: top;\n",
       "    }\n",
       "\n",
       "    .dataframe thead th {\n",
       "        text-align: right;\n",
       "    }\n",
       "</style>\n",
       "<table border=\"1\" class=\"dataframe\">\n",
       "  <thead>\n",
       "    <tr style=\"text-align: right;\">\n",
       "      <th>Like</th>\n",
       "      <th>-5</th>\n",
       "      <th>-4</th>\n",
       "      <th>-3</th>\n",
       "      <th>-2</th>\n",
       "      <th>-1</th>\n",
       "      <th>0</th>\n",
       "      <th>1</th>\n",
       "      <th>2</th>\n",
       "      <th>3</th>\n",
       "      <th>4</th>\n",
       "      <th>5</th>\n",
       "    </tr>\n",
       "    <tr>\n",
       "      <th>cluster_num</th>\n",
       "      <th></th>\n",
       "      <th></th>\n",
       "      <th></th>\n",
       "      <th></th>\n",
       "      <th></th>\n",
       "      <th></th>\n",
       "      <th></th>\n",
       "      <th></th>\n",
       "      <th></th>\n",
       "      <th></th>\n",
       "      <th></th>\n",
       "    </tr>\n",
       "  </thead>\n",
       "  <tbody>\n",
       "    <tr>\n",
       "      <th>0</th>\n",
       "      <td>5</td>\n",
       "      <td>3</td>\n",
       "      <td>7</td>\n",
       "      <td>6</td>\n",
       "      <td>7</td>\n",
       "      <td>36</td>\n",
       "      <td>42</td>\n",
       "      <td>60</td>\n",
       "      <td>66</td>\n",
       "      <td>47</td>\n",
       "      <td>44</td>\n",
       "    </tr>\n",
       "    <tr>\n",
       "      <th>1</th>\n",
       "      <td>4</td>\n",
       "      <td>4</td>\n",
       "      <td>2</td>\n",
       "      <td>6</td>\n",
       "      <td>13</td>\n",
       "      <td>43</td>\n",
       "      <td>65</td>\n",
       "      <td>90</td>\n",
       "      <td>143</td>\n",
       "      <td>111</td>\n",
       "      <td>99</td>\n",
       "    </tr>\n",
       "    <tr>\n",
       "      <th>2</th>\n",
       "      <td>54</td>\n",
       "      <td>36</td>\n",
       "      <td>34</td>\n",
       "      <td>28</td>\n",
       "      <td>25</td>\n",
       "      <td>51</td>\n",
       "      <td>31</td>\n",
       "      <td>31</td>\n",
       "      <td>12</td>\n",
       "      <td>2</td>\n",
       "      <td>0</td>\n",
       "    </tr>\n",
       "    <tr>\n",
       "      <th>3</th>\n",
       "      <td>89</td>\n",
       "      <td>28</td>\n",
       "      <td>30</td>\n",
       "      <td>19</td>\n",
       "      <td>13</td>\n",
       "      <td>39</td>\n",
       "      <td>14</td>\n",
       "      <td>6</td>\n",
       "      <td>8</td>\n",
       "      <td>0</td>\n",
       "      <td>0</td>\n",
       "    </tr>\n",
       "  </tbody>\n",
       "</table>\n",
       "</div>"
      ],
      "text/plain": [
       "Like         -5  -4  -3  -2  -1   0   1   2    3    4   5\n",
       "cluster_num                                              \n",
       "0             5   3   7   6   7  36  42  60   66   47  44\n",
       "1             4   4   2   6  13  43  65  90  143  111  99\n",
       "2            54  36  34  28  25  51  31  31   12    2   0\n",
       "3            89  28  30  19  13  39  14   6    8    0   0"
      ]
     },
     "execution_count": 49,
     "metadata": {},
     "output_type": "execute_result"
    }
   ],
   "source": [
    "#Reordering cols\n",
    "crosstab = crosstab[['-5','-4','-3','-2','-1','0','1','2','3','4','5']]\n",
    "crosstab "
   ]
  },
  {
   "cell_type": "code",
   "execution_count": 50,
   "id": "6a25ac4a",
   "metadata": {},
   "outputs": [
    {
     "data": {
      "image/png": "[encoded data removed]",
      "text/plain": [
       "<Figure size 504x360 with 3 Axes>"
      ]
     },
     "metadata": {
      "needs_background": "light"
     },
     "output_type": "display_data"
    }
   ],
   "source": [
    "plt.rcParams['figure.figsize'] = (7,5)\n",
    "mosaic(crosstab.stack())\n",
    "plt.show()"
   ]
  },
  {
   "cell_type": "code",
   "execution_count": 51,
   "id": "aab8cce1",
   "metadata": {},
   "outputs": [
    {
     "data": {
      "text/html": [
       "<div>\n",
       "<style scoped>\n",
       "    .dataframe tbody tr th:only-of-type {\n",
       "        vertical-align: middle;\n",
       "    }\n",
       "\n",
       "    .dataframe tbody tr th {\n",
       "        vertical-align: top;\n",
       "    }\n",
       "\n",
       "    .dataframe thead th {\n",
       "        text-align: right;\n",
       "    }\n",
       "</style>\n",
       "<table border=\"1\" class=\"dataframe\">\n",
       "  <thead>\n",
       "    <tr style=\"text-align: right;\">\n",
       "      <th>Gender</th>\n",
       "      <th>Female</th>\n",
       "      <th>Male</th>\n",
       "    </tr>\n",
       "    <tr>\n",
       "      <th>cluster_num</th>\n",
       "      <th></th>\n",
       "      <th></th>\n",
       "    </tr>\n",
       "  </thead>\n",
       "  <tbody>\n",
       "    <tr>\n",
       "      <th>0</th>\n",
       "      <td>154</td>\n",
       "      <td>169</td>\n",
       "    </tr>\n",
       "    <tr>\n",
       "      <th>1</th>\n",
       "      <td>349</td>\n",
       "      <td>231</td>\n",
       "    </tr>\n",
       "    <tr>\n",
       "      <th>2</th>\n",
       "      <td>179</td>\n",
       "      <td>125</td>\n",
       "    </tr>\n",
       "    <tr>\n",
       "      <th>3</th>\n",
       "      <td>106</td>\n",
       "      <td>140</td>\n",
       "    </tr>\n",
       "  </tbody>\n",
       "</table>\n",
       "</div>"
      ],
      "text/plain": [
       "Gender       Female  Male\n",
       "cluster_num              \n",
       "0               154   169\n",
       "1               349   231\n",
       "2               179   125\n",
       "3               106   140"
      ]
     },
     "execution_count": 51,
     "metadata": {},
     "output_type": "execute_result"
    }
   ],
   "source": [
    "#Mosaic plot gender vs segment\n",
    "crosstab_gender =pd.crosstab(df['cluster_num'],df['Gender'])\n",
    "crosstab_gender"
   ]
  },
  {
   "cell_type": "code",
   "execution_count": 52,
   "id": "baf9247b",
   "metadata": {},
   "outputs": [
    {
     "data": {
      "image/png": "[encoded data removed]",
      "text/plain": [
       "<Figure size 504x360 with 3 Axes>"
      ]
     },
     "metadata": {
      "needs_background": "light"
     },
     "output_type": "display_data"
    }
   ],
   "source": [
    "plt.rcParams['figure.figsize'] = (7,5)\n",
    "mosaic(crosstab_gender.stack())\n",
    "plt.show()"
   ]
  },
  {
   "cell_type": "code",
   "execution_count": 53,
   "id": "e109ea70",
   "metadata": {},
   "outputs": [
    {
     "data": {
      "text/plain": [
       "<AxesSubplot:xlabel='cluster_num', ylabel='Age'>"
      ]
     },
     "execution_count": 53,
     "metadata": {},
     "output_type": "execute_result"
    },
    {
     "data": {
      "image/png": "[encoded data removed]",
      "text/plain": [
       "<Figure size 504x360 with 1 Axes>"
      ]
     },
     "metadata": {
      "needs_background": "light"
     },
     "output_type": "display_data"
    }
   ],
   "source": [
    "#box plot for age\n",
    "sns.boxplot(x=\"cluster_num\", y=\"Age\", data=df)"
   ]
  },
  {
   "cell_type": "code",
   "execution_count": 54,
   "id": "5cdbe504",
   "metadata": {},
   "outputs": [
    {
     "data": {
      "text/html": [
       "<div>\n",
       "<style scoped>\n",
       "    .dataframe tbody tr th:only-of-type {\n",
       "        vertical-align: middle;\n",
       "    }\n",
       "\n",
       "    .dataframe tbody tr th {\n",
       "        vertical-align: top;\n",
       "    }\n",
       "\n",
       "    .dataframe thead th {\n",
       "        text-align: right;\n",
       "    }\n",
       "</style>\n",
       "<table border=\"1\" class=\"dataframe\">\n",
       "  <thead>\n",
       "    <tr style=\"text-align: right;\">\n",
       "      <th></th>\n",
       "      <th>yummy</th>\n",
       "      <th>convenient</th>\n",
       "      <th>spicy</th>\n",
       "      <th>fattening</th>\n",
       "      <th>greasy</th>\n",
       "      <th>fast</th>\n",
       "      <th>cheap</th>\n",
       "      <th>tasty</th>\n",
       "      <th>expensive</th>\n",
       "      <th>healthy</th>\n",
       "      <th>disgusting</th>\n",
       "      <th>Like</th>\n",
       "      <th>Age</th>\n",
       "      <th>VisitFrequency</th>\n",
       "      <th>Gender</th>\n",
       "      <th>cluster_num</th>\n",
       "    </tr>\n",
       "  </thead>\n",
       "  <tbody>\n",
       "    <tr>\n",
       "      <th>0</th>\n",
       "      <td>0</td>\n",
       "      <td>1</td>\n",
       "      <td>0</td>\n",
       "      <td>1</td>\n",
       "      <td>0</td>\n",
       "      <td>1</td>\n",
       "      <td>1</td>\n",
       "      <td>0</td>\n",
       "      <td>1</td>\n",
       "      <td>0</td>\n",
       "      <td>0</td>\n",
       "      <td>-3</td>\n",
       "      <td>61</td>\n",
       "      <td>Every three months</td>\n",
       "      <td>Female</td>\n",
       "      <td>2</td>\n",
       "    </tr>\n",
       "    <tr>\n",
       "      <th>1</th>\n",
       "      <td>1</td>\n",
       "      <td>1</td>\n",
       "      <td>0</td>\n",
       "      <td>1</td>\n",
       "      <td>1</td>\n",
       "      <td>1</td>\n",
       "      <td>1</td>\n",
       "      <td>1</td>\n",
       "      <td>1</td>\n",
       "      <td>0</td>\n",
       "      <td>0</td>\n",
       "      <td>2</td>\n",
       "      <td>51</td>\n",
       "      <td>Every three months</td>\n",
       "      <td>Female</td>\n",
       "      <td>0</td>\n",
       "    </tr>\n",
       "    <tr>\n",
       "      <th>2</th>\n",
       "      <td>0</td>\n",
       "      <td>1</td>\n",
       "      <td>1</td>\n",
       "      <td>1</td>\n",
       "      <td>1</td>\n",
       "      <td>1</td>\n",
       "      <td>0</td>\n",
       "      <td>1</td>\n",
       "      <td>1</td>\n",
       "      <td>1</td>\n",
       "      <td>0</td>\n",
       "      <td>1</td>\n",
       "      <td>62</td>\n",
       "      <td>Every three months</td>\n",
       "      <td>Female</td>\n",
       "      <td>0</td>\n",
       "    </tr>\n",
       "    <tr>\n",
       "      <th>3</th>\n",
       "      <td>1</td>\n",
       "      <td>1</td>\n",
       "      <td>0</td>\n",
       "      <td>1</td>\n",
       "      <td>1</td>\n",
       "      <td>1</td>\n",
       "      <td>1</td>\n",
       "      <td>1</td>\n",
       "      <td>0</td>\n",
       "      <td>0</td>\n",
       "      <td>1</td>\n",
       "      <td>4</td>\n",
       "      <td>69</td>\n",
       "      <td>Once a week</td>\n",
       "      <td>Female</td>\n",
       "      <td>1</td>\n",
       "    </tr>\n",
       "    <tr>\n",
       "      <th>4</th>\n",
       "      <td>0</td>\n",
       "      <td>1</td>\n",
       "      <td>0</td>\n",
       "      <td>1</td>\n",
       "      <td>1</td>\n",
       "      <td>1</td>\n",
       "      <td>1</td>\n",
       "      <td>0</td>\n",
       "      <td>0</td>\n",
       "      <td>1</td>\n",
       "      <td>0</td>\n",
       "      <td>2</td>\n",
       "      <td>49</td>\n",
       "      <td>Once a month</td>\n",
       "      <td>Male</td>\n",
       "      <td>2</td>\n",
       "    </tr>\n",
       "  </tbody>\n",
       "</table>\n",
       "</div>"
      ],
      "text/plain": [
       "   yummy  convenient  spicy  fattening  greasy  fast  cheap  tasty  expensive  \\\n",
       "0      0           1      0          1       0     1      1      0          1   \n",
       "1      1           1      0          1       1     1      1      1          1   \n",
       "2      0           1      1          1       1     1      0      1          1   \n",
       "3      1           1      0          1       1     1      1      1          0   \n",
       "4      0           1      0          1       1     1      1      0          0   \n",
       "\n",
       "   healthy  disgusting Like  Age      VisitFrequency  Gender  cluster_num  \n",
       "0        0           0   -3   61  Every three months  Female            2  \n",
       "1        0           0    2   51  Every three months  Female            0  \n",
       "2        1           0    1   62  Every three months  Female            0  \n",
       "3        0           1    4   69         Once a week  Female            1  \n",
       "4        1           0    2   49        Once a month    Male            2  "
      ]
     },
     "execution_count": 54,
     "metadata": {},
     "output_type": "execute_result"
    }
   ],
   "source": [
    "df.head()"
   ]
  },
  {
   "cell_type": "markdown",
   "id": "bc275558",
   "metadata": {},
   "source": [
    "# Selecting The Target\n"
   ]
  },
  {
   "cell_type": "code",
   "execution_count": 55,
   "id": "e22de199",
   "metadata": {},
   "outputs": [
    {
     "data": {
      "text/html": [
       "<div>\n",
       "<style scoped>\n",
       "    .dataframe tbody tr th:only-of-type {\n",
       "        vertical-align: middle;\n",
       "    }\n",
       "\n",
       "    .dataframe tbody tr th {\n",
       "        vertical-align: top;\n",
       "    }\n",
       "\n",
       "    .dataframe thead th {\n",
       "        text-align: right;\n",
       "    }\n",
       "</style>\n",
       "<table border=\"1\" class=\"dataframe\">\n",
       "  <thead>\n",
       "    <tr style=\"text-align: right;\">\n",
       "      <th></th>\n",
       "      <th>cluster_num</th>\n",
       "      <th>VisitFrequency</th>\n",
       "    </tr>\n",
       "  </thead>\n",
       "  <tbody>\n",
       "    <tr>\n",
       "      <th>0</th>\n",
       "      <td>0</td>\n",
       "      <td>2.547988</td>\n",
       "    </tr>\n",
       "    <tr>\n",
       "      <th>1</th>\n",
       "      <td>1</td>\n",
       "      <td>2.584483</td>\n",
       "    </tr>\n",
       "    <tr>\n",
       "      <th>2</th>\n",
       "      <td>2</td>\n",
       "      <td>2.822368</td>\n",
       "    </tr>\n",
       "    <tr>\n",
       "      <th>3</th>\n",
       "      <td>3</td>\n",
       "      <td>2.654472</td>\n",
       "    </tr>\n",
       "  </tbody>\n",
       "</table>\n",
       "</div>"
      ],
      "text/plain": [
       "   cluster_num  VisitFrequency\n",
       "0            0        2.547988\n",
       "1            1        2.584483\n",
       "2            2        2.822368\n",
       "3            3        2.654472"
      ]
     },
     "execution_count": 55,
     "metadata": {},
     "output_type": "execute_result"
    }
   ],
   "source": [
    "#Calculating the mean\n",
    "#Visit frequency\n",
    "df['VisitFrequency'] = LabelEncoder().fit_transform(df['VisitFrequency'])\n",
    "visit = df.groupby('cluster_num')['VisitFrequency'].mean()\n",
    "visit = visit.to_frame().reset_index()\n",
    "visit"
   ]
  },
  {
   "cell_type": "code",
   "execution_count": 56,
   "id": "82f4dc71",
   "metadata": {},
   "outputs": [
    {
     "data": {
      "text/html": [
       "<div>\n",
       "<style scoped>\n",
       "    .dataframe tbody tr th:only-of-type {\n",
       "        vertical-align: middle;\n",
       "    }\n",
       "\n",
       "    .dataframe tbody tr th {\n",
       "        vertical-align: top;\n",
       "    }\n",
       "\n",
       "    .dataframe thead th {\n",
       "        text-align: right;\n",
       "    }\n",
       "</style>\n",
       "<table border=\"1\" class=\"dataframe\">\n",
       "  <thead>\n",
       "    <tr style=\"text-align: right;\">\n",
       "      <th></th>\n",
       "      <th>cluster_num</th>\n",
       "      <th>Like</th>\n",
       "    </tr>\n",
       "  </thead>\n",
       "  <tbody>\n",
       "    <tr>\n",
       "      <th>0</th>\n",
       "      <td>0</td>\n",
       "      <td>7.095975</td>\n",
       "    </tr>\n",
       "    <tr>\n",
       "      <th>1</th>\n",
       "      <td>1</td>\n",
       "      <td>7.596552</td>\n",
       "    </tr>\n",
       "    <tr>\n",
       "      <th>2</th>\n",
       "      <td>2</td>\n",
       "      <td>3.921053</td>\n",
       "    </tr>\n",
       "    <tr>\n",
       "      <th>3</th>\n",
       "      <td>3</td>\n",
       "      <td>3.674797</td>\n",
       "    </tr>\n",
       "  </tbody>\n",
       "</table>\n",
       "</div>"
      ],
      "text/plain": [
       "   cluster_num      Like\n",
       "0            0  7.095975\n",
       "1            1  7.596552\n",
       "2            2  3.921053\n",
       "3            3  3.674797"
      ]
     },
     "execution_count": 56,
     "metadata": {},
     "output_type": "execute_result"
    }
   ],
   "source": [
    "#Like\n",
    "df['Like'] = LabelEncoder().fit_transform(df['Like'])\n",
    "Like = df.groupby('cluster_num')['Like'].mean()\n",
    "Like = Like.to_frame().reset_index()\n",
    "Like"
   ]
  },
  {
   "cell_type": "code",
   "execution_count": 57,
   "id": "1ba082ff",
   "metadata": {},
   "outputs": [
    {
     "data": {
      "text/html": [
       "<div>\n",
       "<style scoped>\n",
       "    .dataframe tbody tr th:only-of-type {\n",
       "        vertical-align: middle;\n",
       "    }\n",
       "\n",
       "    .dataframe tbody tr th {\n",
       "        vertical-align: top;\n",
       "    }\n",
       "\n",
       "    .dataframe thead th {\n",
       "        text-align: right;\n",
       "    }\n",
       "</style>\n",
       "<table border=\"1\" class=\"dataframe\">\n",
       "  <thead>\n",
       "    <tr style=\"text-align: right;\">\n",
       "      <th></th>\n",
       "      <th>cluster_num</th>\n",
       "      <th>Gender</th>\n",
       "    </tr>\n",
       "  </thead>\n",
       "  <tbody>\n",
       "    <tr>\n",
       "      <th>0</th>\n",
       "      <td>0</td>\n",
       "      <td>0.523220</td>\n",
       "    </tr>\n",
       "    <tr>\n",
       "      <th>1</th>\n",
       "      <td>1</td>\n",
       "      <td>0.398276</td>\n",
       "    </tr>\n",
       "    <tr>\n",
       "      <th>2</th>\n",
       "      <td>2</td>\n",
       "      <td>0.411184</td>\n",
       "    </tr>\n",
       "    <tr>\n",
       "      <th>3</th>\n",
       "      <td>3</td>\n",
       "      <td>0.569106</td>\n",
       "    </tr>\n",
       "  </tbody>\n",
       "</table>\n",
       "</div>"
      ],
      "text/plain": [
       "   cluster_num    Gender\n",
       "0            0  0.523220\n",
       "1            1  0.398276\n",
       "2            2  0.411184\n",
       "3            3  0.569106"
      ]
     },
     "execution_count": 57,
     "metadata": {},
     "output_type": "execute_result"
    }
   ],
   "source": [
    "#Gender\n",
    "df['Gender'] = LabelEncoder().fit_transform(df['Gender'])\n",
    "Gender = df.groupby('cluster_num')['Gender'].mean()\n",
    "Gender = Gender.to_frame().reset_index()\n",
    "Gender"
   ]
  },
  {
   "cell_type": "code",
   "execution_count": 58,
   "id": "7cc13bde",
   "metadata": {},
   "outputs": [
    {
     "data": {
      "text/html": [
       "<div>\n",
       "<style scoped>\n",
       "    .dataframe tbody tr th:only-of-type {\n",
       "        vertical-align: middle;\n",
       "    }\n",
       "\n",
       "    .dataframe tbody tr th {\n",
       "        vertical-align: top;\n",
       "    }\n",
       "\n",
       "    .dataframe thead th {\n",
       "        text-align: right;\n",
       "    }\n",
       "</style>\n",
       "<table border=\"1\" class=\"dataframe\">\n",
       "  <thead>\n",
       "    <tr style=\"text-align: right;\">\n",
       "      <th></th>\n",
       "      <th>cluster_num</th>\n",
       "      <th>Gender</th>\n",
       "      <th>Like</th>\n",
       "      <th>VisitFrequency</th>\n",
       "    </tr>\n",
       "  </thead>\n",
       "  <tbody>\n",
       "    <tr>\n",
       "      <th>0</th>\n",
       "      <td>0</td>\n",
       "      <td>0.523220</td>\n",
       "      <td>7.095975</td>\n",
       "      <td>2.547988</td>\n",
       "    </tr>\n",
       "    <tr>\n",
       "      <th>1</th>\n",
       "      <td>1</td>\n",
       "      <td>0.398276</td>\n",
       "      <td>7.596552</td>\n",
       "      <td>2.584483</td>\n",
       "    </tr>\n",
       "    <tr>\n",
       "      <th>2</th>\n",
       "      <td>2</td>\n",
       "      <td>0.411184</td>\n",
       "      <td>3.921053</td>\n",
       "      <td>2.822368</td>\n",
       "    </tr>\n",
       "    <tr>\n",
       "      <th>3</th>\n",
       "      <td>3</td>\n",
       "      <td>0.569106</td>\n",
       "      <td>3.674797</td>\n",
       "      <td>2.654472</td>\n",
       "    </tr>\n",
       "  </tbody>\n",
       "</table>\n",
       "</div>"
      ],
      "text/plain": [
       "   cluster_num    Gender      Like  VisitFrequency\n",
       "0            0  0.523220  7.095975        2.547988\n",
       "1            1  0.398276  7.596552        2.584483\n",
       "2            2  0.411184  3.921053        2.822368\n",
       "3            3  0.569106  3.674797        2.654472"
      ]
     },
     "execution_count": 58,
     "metadata": {},
     "output_type": "execute_result"
    }
   ],
   "source": [
    "segment = Gender.merge(Like, on='cluster_num', how='left').merge(visit, on='cluster_num', how='left')\n",
    "segment"
   ]
  },
  {
   "cell_type": "code",
   "execution_count": 59,
   "id": "2f5303ab",
   "metadata": {},
   "outputs": [
    {
     "data": {
      "image/png": "[encoded data removed]",
      "text/plain": [
       "<Figure size 504x360 with 1 Axes>"
      ]
     },
     "metadata": {
      "needs_background": "light"
     },
     "output_type": "display_data"
    }
   ],
   "source": [
    "#Target segments\n",
    "plt.rcParams['figure.figsize'] = (7,5)\n",
    "sns.scatterplot(x = \"VisitFrequency\", y = \"Like\",data=segment,s=400, color=\"r\")\n",
    "plt.title(\"Simple segment evaluation plot for the fast food data set \\n\",fontsize = 15) \n",
    "plt.xlabel(\"Visit\", fontsize = 15) \n",
    "plt.ylabel(\"Like\", fontsize = 15) \n",
    "plt.show()"
   ]
  },
  {
   "cell_type": "code",
   "execution_count": null,
   "id": "de43318d",
   "metadata": {},
   "outputs": [],
   "source": []
  },
  {
   "cell_type": "code",
   "execution_count": null,
   "id": "a6e2499f",
   "metadata": {},
   "outputs": [],
   "source": []
  }
 ],
 "metadata": {
  "kernelspec": {
   "display_name": "Python 3 (ipykernel)",
   "language": "python",
   "name": "python3"
  },
  "language_info": {
   "codemirror_mode": {
    "name": "ipython",
    "version": 3
   },
   "file_extension": ".py",
   "mimetype": "text/x-python",
   "name": "python",
   "nbconvert_exporter": "python",
   "pygments_lexer": "ipython3",
   "version": "3.9.7"
  }
 },
 "nbformat": 4,
 "nbformat_minor": 5
}
